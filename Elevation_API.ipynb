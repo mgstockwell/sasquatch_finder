{
  "nbformat": 4,
  "nbformat_minor": 0,
  "metadata": {
    "colab": {
      "name": "Elevation API",
      "provenance": [],
      "collapsed_sections": []
    },
    "kernelspec": {
      "name": "python3",
      "display_name": "Python 3"
    },
    "language_info": {
      "name": "python"
    }
  },
  "cells": [
    {
      "cell_type": "code",
      "metadata": {
        "colab": {
          "base_uri": "https://localhost:8080/",
          "height": 1000
        },
        "id": "K5LUmj7pOdsx",
        "outputId": "a3414db6-87d0-4646-9d07-cb8c581e040c"
      },
      "source": [
        "import requests\n",
        "import json\n",
        "import pandas as pd\n",
        "from google.cloud import bigquery\n",
        "from google.oauth2 import service_account\n",
        "\n",
        "client = bigquery.Client(project='msd8654-434')\n",
        "\n",
        "# TODO(developer): Set table_id to the ID of the table to browse data rows.\n",
        "table_id = \"bfro.bfro_reports_geocoded\"\n",
        "api_key = <add your key>\n",
        "\n",
        "# Download all rows from a table.\n",
        "rows_iter = client.list_rows(table_id)  # Make an API request.\n",
        "\n",
        "# Iterate over rows to make the API requests to fetch row data.\n",
        "rows = list(rows_iter)\n",
        "print(\"Downloaded {} rows from table {}\".format(len(rows), table_id))\n",
        "\n",
        "def get_elevation(lat,long):\n",
        "  location = str(lat) + ',' + str(long)\n",
        "  url = \"https://maps.googleapis.com/maps/api/elevation/json?locations=\" + location + \"&key=\" + api_key\n",
        "  payload={}\n",
        "  headers = {}\n",
        "  response = requests.request(\"GET\", url, headers=headers, data=payload)\n",
        "  return response.text\n",
        "\n",
        "\n",
        "json_list = []\n",
        "i = 0\n",
        "for rec in rows:\n",
        "  if (i%100==0): print(\"i=\",i,rec.values()[6:10])\n",
        "  if (rec.values()[6] != None): \n",
        "    json_text = json.loads(get_elevation(rec[\"latitude\"], rec[\"longitude\"] ))\n",
        "    try:\n",
        "      results = json_text['results'][0]\n",
        "    except:\n",
        "      print('error on', rec.values()[6:10], json_text)\n",
        "  json_list.append([round(rec['number']), rec['latitude'], rec['longitude'], round(results['elevation']) ])\n",
        "  i+=1\n",
        "  #if i>10: break\n",
        "\n",
        "df = pd.DataFrame(columns=['number','lat','long','elevation'], data=json_list )\n",
        "print(df)\n",
        "df.to_csv('elevations.csv',index=False)\n"
      ],
      "execution_count": null,
      "outputs": [
        {
          "output_type": "stream",
          "name": "stdout",
          "text": [
            "Downloaded 4969 rows from table msd8654-434.bfro.bfro_reports_geocoded\n",
            "i= 0 (47.72964, -102.70100000000001, datetime.date(2004, 2, 22), 8165.0)\n",
            "i= 100 (40.16912, -80.62003, datetime.date(2020, 2, 6), 63140.0)\n",
            "i= 200 (34.559459999999994, -86.59747, datetime.date(2008, 11, 28), 25111.0)\n",
            "i= 300 (47.87725, -121.8943, datetime.date(2004, 7, 3), 8597.0)\n",
            "i= 400 (29.270429999999998, -81.69337, datetime.date(2017, 8, 15), 59858.0)\n",
            "i= 500 (36.469, -91.154, datetime.date(2012, 5, 16), 56937.0)\n",
            "i= 600 (None, None, None, 6233.0)\n",
            "i= 700 (None, None, None, 59235.0)\n",
            "i= 800 (None, None, None, 23695.0)\n",
            "i= 900 (None, None, None, 4196.0)\n",
            "i= 1000 (None, None, None, 1170.0)\n",
            "i= 1100 (None, None, None, 1064.0)\n",
            "i= 1200 (35.5605, -83.5214, datetime.date(1998, 1, 5), 3338.0)\n",
            "i= 1300 (48.74111, -117.4161, datetime.date(1991, 5, 10), 1571.0)\n",
            "i= 1400 (None, None, None, 23796.0)\n",
            "i= 1500 (44.75, -115.9167, datetime.date(1981, 7, 7), 6929.0)\n",
            "i= 1600 (38.19833, -120.0083, datetime.date(1993, 11, 1), 2311.0)\n",
            "i= 1700 (37.830740000000006, -119.4626, datetime.date(1976, 9, 1), 10718.0)\n",
            "i= 1800 (None, None, None, 1372.0)\n",
            "i= 1900 (25.91695, -81.29691, datetime.date(1997, 7, 17), 721.0)\n",
            "i= 2000 (38.4975, -88.9094, datetime.date(1972, 9, 15), 3471.0)\n",
            "i= 2100 (37.427009999999996, -82.48093, datetime.date(1994, 4, 18), 27941.0)\n",
            "i= 2200 (40.01784, -80.93318000000001, datetime.date(1994, 11, 5), 48372.0)\n",
            "i= 2300 (46.5579, -122.2988, datetime.date(1996, 2, 25), 1781.0)\n",
            "i= 2400 (38.4775, -120.0047, datetime.date(2001, 11, 1), 8463.0)\n",
            "i= 2500 (28.908540000000002, -82.34611, datetime.date(1961, 3, 18), 28678.0)\n",
            "i= 2600 (42.28422, -91.68191999999999, datetime.date(2004, 9, 12), 9089.0)\n",
            "i= 2700 (37.714, -92.17299999999999, datetime.date(1982, 5, 15), 4421.0)\n",
            "i= 2800 (36.3025, -93.448, datetime.date(1997, 5, 10), 62678.0)\n",
            "i= 2900 (47.85691, -120.6502, datetime.date(2014, 6, 22), 45726.0)\n",
            "i= 3000 (46.81398, -122.0571, datetime.date(2008, 11, 19), 26759.0)\n",
            "i= 3100 (35.703, -91.46231, datetime.date(2011, 11, 24), 46380.0)\n",
            "i= 3200 (39.208940000000005, -94.2908, datetime.date(2012, 11, 15), 38339.0)\n",
            "i= 3300 (41.65225, -90.59600999999999, datetime.date(1981, 2, 4), 22945.0)\n",
            "i= 3400 (48.03632, -122.9539, datetime.date(2008, 6, 1), 23068.0)\n",
            "i= 3500 (34.814170000000004, -95.65417, datetime.date(2005, 2, 10), 10595.0)\n",
            "i= 3600 (28.98195, -80.86715, datetime.date(2004, 11, 7), 2848.0)\n",
            "i= 3700 (32.8, -94.16666, datetime.date(2004, 2, 22), 8067.0)\n",
            "i= 3800 (41.05304, -80.51186, datetime.date(1998, 7, 1), 23125.0)\n",
            "i= 3900 (30.373690000000003, -83.1736, datetime.date(2011, 10, 15), 49326.0)\n",
            "i= 4000 (37.2423, -80.13276, datetime.date(2002, 4, 4), 4077.0)\n",
            "i= 4100 (41.30265, -81.30896, datetime.date(1962, 6, 6), 3651.0)\n",
            "i= 4200 (38.80435, -120.0825, datetime.date(2007, 8, 27), 21165.0)\n",
            "i= 4300 (32.51667, -94.9, datetime.date(2004, 8, 16), 9038.0)\n",
            "i= 4400 (33.48665, -85.8175, datetime.date(2000, 7, 15), 1419.0)\n",
            "i= 4500 (40.4764, -82.80256999999999, datetime.date(1978, 1, 1), 3293.0)\n",
            "i= 4600 (39.32117, -86.46065, datetime.date(1988, 11, 30), 24815.0)\n",
            "i= 4700 (40.04755, -80.25645, datetime.date(1978, 10, 1), 50123.0)\n",
            "i= 4800 (37.07354, -93.13545, datetime.date(1988, 6, 1), 2036.0)\n",
            "i= 4900 (40.9119, -90.928, datetime.date(2014, 5, 12), 43619.0)\n"
          ]
        },
        {
          "output_type": "error",
          "ename": "NameError",
          "evalue": "ignored",
          "traceback": [
            "\u001b[0;31m---------------------------------------------------------------------------\u001b[0m",
            "\u001b[0;31mNameError\u001b[0m                                 Traceback (most recent call last)",
            "\u001b[0;32m<ipython-input-7-caf737bbde1b>\u001b[0m in \u001b[0;36m<module>\u001b[0;34m()\u001b[0m\n\u001b[1;32m     41\u001b[0m   \u001b[0;31m#if i>10: break\u001b[0m\u001b[0;34m\u001b[0m\u001b[0;34m\u001b[0m\u001b[0;34m\u001b[0m\u001b[0m\n\u001b[1;32m     42\u001b[0m \u001b[0;34m\u001b[0m\u001b[0m\n\u001b[0;32m---> 43\u001b[0;31m \u001b[0mprint\u001b[0m\u001b[0;34m(\u001b[0m\u001b[0mjson_dict\u001b[0m\u001b[0;34m[\u001b[0m\u001b[0;34m'results'\u001b[0m\u001b[0;34m]\u001b[0m\u001b[0;34m)\u001b[0m\u001b[0;34m\u001b[0m\u001b[0;34m\u001b[0m\u001b[0m\n\u001b[0m\u001b[1;32m     44\u001b[0m \u001b[0mdf\u001b[0m \u001b[0;34m=\u001b[0m \u001b[0mpd\u001b[0m\u001b[0;34m.\u001b[0m\u001b[0mDataFrame\u001b[0m\u001b[0;34m(\u001b[0m\u001b[0mcolumns\u001b[0m\u001b[0;34m=\u001b[0m\u001b[0;34m[\u001b[0m\u001b[0;34m'number'\u001b[0m\u001b[0;34m,\u001b[0m\u001b[0;34m'lat'\u001b[0m\u001b[0;34m,\u001b[0m\u001b[0;34m'long'\u001b[0m\u001b[0;34m,\u001b[0m\u001b[0;34m'elevation'\u001b[0m\u001b[0;34m]\u001b[0m\u001b[0;34m,\u001b[0m \u001b[0mdata\u001b[0m\u001b[0;34m=\u001b[0m\u001b[0mjson_list\u001b[0m \u001b[0;34m)\u001b[0m\u001b[0;34m\u001b[0m\u001b[0;34m\u001b[0m\u001b[0m\n\u001b[1;32m     45\u001b[0m \u001b[0mprint\u001b[0m\u001b[0;34m(\u001b[0m\u001b[0mdf\u001b[0m\u001b[0;34m)\u001b[0m\u001b[0;34m\u001b[0m\u001b[0;34m\u001b[0m\u001b[0m\n",
            "\u001b[0;31mNameError\u001b[0m: name 'json_dict' is not defined"
          ]
        }
      ]
    },
    {
      "cell_type": "code",
      "metadata": {
        "colab": {
          "base_uri": "https://localhost:8080/"
        },
        "id": "2eAUYv2Xz4dr",
        "outputId": "db806be9-8087-4e42-82c0-e17d38c4760d"
      },
      "source": [
        "\n",
        "df = pd.DataFrame(columns=['number','lat','long','elevation'], data=json_list )\n",
        "print(df)\n",
        "df.to_csv('elevations.csv',index=False)"
      ],
      "execution_count": null,
      "outputs": [
        {
          "output_type": "stream",
          "name": "stdout",
          "text": [
            "      number       lat       long  elevation\n",
            "0       8165  47.72964 -102.70100        726\n",
            "1       8130  47.63297 -102.72910        759\n",
            "2      28964  35.37201 -108.20340       2215\n",
            "3      44173  38.95060  -83.02551        170\n",
            "4      43407  39.05922  -83.07492        205\n",
            "...      ...       ...        ...        ...\n",
            "4964    5609  31.39040  -92.34950         46\n",
            "4965    6513  35.33389  -98.13028        448\n",
            "4966   49148  30.03260  -83.52959         15\n",
            "4967     348  37.57915 -105.49790       3987\n",
            "4968   35631  31.62608  -84.16016         66\n",
            "\n",
            "[4969 rows x 4 columns]\n"
          ]
        }
      ]
    },
    {
      "cell_type": "code",
      "metadata": {
        "id": "SeTJb51SKs_W",
        "colab": {
          "base_uri": "https://localhost:8080/"
        },
        "outputId": "078b6522-ec8b-4d0c-ec1e-59bddc5ce832"
      },
      "source": [
        "from google.colab import auth\n",
        "auth.authenticate_user()\n",
        "print('Authenticated')"
      ],
      "execution_count": null,
      "outputs": [
        {
          "output_type": "stream",
          "name": "stdout",
          "text": [
            "Authenticated\n"
          ]
        }
      ]
    }
  ]
}